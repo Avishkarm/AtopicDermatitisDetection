{
  "nbformat": 4,
  "nbformat_minor": 0,
  "metadata": {
    "colab": {
      "provenance": [],
      "authorship_tag": "ABX9TyMu6BvtYBB2oRbpH0pdCmhR",
      "include_colab_link": true
    },
    "kernelspec": {
      "name": "python3",
      "display_name": "Python 3"
    },
    "language_info": {
      "name": "python"
    }
  },
  "cells": [
    {
      "cell_type": "markdown",
      "metadata": {
        "id": "view-in-github",
        "colab_type": "text"
      },
      "source": [
        "<a href=\"https://colab.research.google.com/github/Avishkarm/AtopicDermatitisDetection/blob/main/eczema_detection_1.ipynb\" target=\"_parent\"><img src=\"https://colab.research.google.com/assets/colab-badge.svg\" alt=\"Open In Colab\"/></a>"
      ]
    },
    {
      "cell_type": "markdown",
      "source": [
        "This file uses pre-trained model to\n",
        "1. classify images as eczema or non-eczema\n",
        "2. determine the level of eczema"
      ],
      "metadata": {
        "id": "49DT6ByL_C_N"
      }
    },
    {
      "cell_type": "code",
      "source": [
        "from google.colab import drive\n",
        "\n",
        "# Mount Google Drive\n",
        "drive.mount('/content/drive')"
      ],
      "metadata": {
        "colab": {
          "base_uri": "https://localhost:8080/"
        },
        "id": "MgW4OP7uUCgn",
        "outputId": "ce504d3d-6cb0-4a8b-fb60-0bf82ddbd6d0"
      },
      "execution_count": null,
      "outputs": [
        {
          "output_type": "stream",
          "name": "stdout",
          "text": [
            "Drive already mounted at /content/drive; to attempt to forcibly remount, call drive.mount(\"/content/drive\", force_remount=True).\n"
          ]
        }
      ]
    },
    {
      "cell_type": "code",
      "source": [
        "!pip install tensorflow-hub\n"
      ],
      "metadata": {
        "colab": {
          "base_uri": "https://localhost:8080/"
        },
        "id": "cabb5ApHajAE",
        "outputId": "96d1f6e7-740b-44c2-8255-8181815ce707"
      },
      "execution_count": null,
      "outputs": [
        {
          "output_type": "stream",
          "name": "stdout",
          "text": [
            "Requirement already satisfied: tensorflow-hub in /usr/local/lib/python3.11/dist-packages (0.13.0)\n",
            "Requirement already satisfied: numpy>=1.12.0 in /usr/local/lib/python3.11/dist-packages (from tensorflow-hub) (1.23.5)\n",
            "Requirement already satisfied: protobuf>=3.19.6 in /usr/local/lib/python3.11/dist-packages (from tensorflow-hub) (4.25.5)\n"
          ]
        }
      ]
    },
    {
      "cell_type": "code",
      "source": [
        "# Clone the GitHub repository\n",
        "!git clone https://github.com/biswa932/EczemaDetectionUsingCNN.git\n",
        "\n",
        "# Navigate to the cloned repository\n",
        "%cd EczemaDetectionUsingCNN\n",
        "\n",
        "# Verify if the model file is downloaded\n",
        "!ls\n"
      ],
      "metadata": {
        "colab": {
          "base_uri": "https://localhost:8080/"
        },
        "id": "bQ6h8UH-bRyJ",
        "outputId": "9846084d-d95c-42bd-8a36-23f98b1cd210"
      },
      "execution_count": null,
      "outputs": [
        {
          "output_type": "stream",
          "name": "stdout",
          "text": [
            "fatal: destination path 'EczemaDetectionUsingCNN' already exists and is not an empty directory.\n",
            "/content/EczemaDetectionUsingCNN\n",
            "03DermatitisArm1.jpg\t\t  eczemaLevelDetection.h5\n",
            "alto.jpg\t\t\t  EczemaLevelDetectionModelFile.mlmodel\n",
            "black.jpg\t\t\t  handClear.jpg\n",
            "desquamation-4.jpg\t\t  README.md\n",
            "eczema-acute-4.jpg\t\t  skinDetection.h5\n",
            "eczema-arms-8.jpg\t\t  SkinDetectionModelFile.mlmodel\n",
            "eczemaDetection.h5\t\t  ThreeStageEczemaDetection.ipynb\n",
            "EczemaDetectionModelFile.mlmodel  ThreeStageEczemaDetectionToCoreML.ipynb\n"
          ]
        }
      ]
    },
    {
      "cell_type": "markdown",
      "source": [
        "# Classifying as eczema or non - eczema"
      ],
      "metadata": {
        "id": "cybxDOTr_Uwd"
      }
    },
    {
      "cell_type": "code",
      "source": [
        "import tensorflow as tf\n",
        "import tensorflow_hub as hub\n",
        "from tensorflow.keras.models import load_model\n",
        "\n",
        "# Define the model path\n",
        "model_path = \"/content/EczemaDetectionUsingCNN/eczemaDetection.h5\"\n",
        "\n",
        "# Load the model without compiling\n",
        "model = load_model(model_path, custom_objects={'KerasLayer': hub.KerasLayer}, compile=False)\n",
        "\n",
        "# Recompile the model with the correct loss and optimizer\n",
        "model.compile(\n",
        "    optimizer=tf.keras.optimizers.Adam(),\n",
        "    loss=tf.keras.losses.SparseCategoricalCrossentropy(from_logits=True),\n",
        "    metrics=['accuracy']\n",
        ")\n",
        "\n",
        "# Display model structure\n",
        "model.summary()\n"
      ],
      "metadata": {
        "id": "wqxoHh_sx_jY",
        "colab": {
          "base_uri": "https://localhost:8080/"
        },
        "outputId": "95fcb63a-e68a-47cc-e0ad-4924bc3c8905"
      },
      "execution_count": null,
      "outputs": [
        {
          "output_type": "stream",
          "name": "stdout",
          "text": [
            "Model: \"sequential_1\"\n",
            "_________________________________________________________________\n",
            " Layer (type)                Output Shape              Param #   \n",
            "=================================================================\n",
            " keras_layer_1 (KerasLayer)  (None, 1792)              4363712   \n",
            "                                                                 \n",
            " dense_1 (Dense)             (None, 2)                 3586      \n",
            "                                                                 \n",
            "=================================================================\n",
            "Total params: 4,367,298\n",
            "Trainable params: 3,586\n",
            "Non-trainable params: 4,363,712\n",
            "_________________________________________________________________\n"
          ]
        }
      ]
    },
    {
      "cell_type": "markdown",
      "source": [
        "To prompt user to input a single image and check for eczema."
      ],
      "metadata": {
        "id": "I4wKn2hNm963"
      }
    },
    {
      "cell_type": "code",
      "source": [
        "import numpy as np\n",
        "from tensorflow.keras.utils import load_img, img_to_array\n",
        "from google.colab import files\n",
        "\n",
        "# Function to preprocess the image\n",
        "def preprocess_image(image_path, target_size=(224, 224)):\n",
        "    img = load_img(image_path, target_size=target_size)  # Load image\n",
        "    img_array = img_to_array(img) / 255.0  # Convert to array and normalize\n",
        "    img_array = np.expand_dims(img_array, axis=0)  # Add batch dimension\n",
        "    return img_array\n",
        "\n",
        "# Prompt user to upload an image\n",
        "print(\"Please upload an image for classification:\")\n",
        "uploaded = files.upload()\n",
        "\n",
        "# Get the uploaded file's path\n",
        "for filename in uploaded.keys():\n",
        "    image_path = filename\n",
        "\n",
        "# Preprocess the image\n",
        "input_image = preprocess_image(image_path)\n",
        "\n",
        "# Make predictions\n",
        "predictions = model.predict(input_image)\n",
        "\n",
        "# Interpret the results\n",
        "class_names = ['Non-Eczema', 'Eczema']\n",
        "predicted_class = class_names[np.argmax(predictions)]\n",
        "\n",
        "# Display results\n",
        "print(f\"Predicted Class: {predicted_class}\")\n",
        "print(f\"Confidence Scores: {predictions[0]}\")\n"
      ],
      "metadata": {
        "colab": {
          "base_uri": "https://localhost:8080/",
          "height": 142
        },
        "id": "_uFESIng7svf",
        "outputId": "1e07741b-b8ac-4c1c-a8bd-0e43c7151f2c"
      },
      "execution_count": null,
      "outputs": [
        {
          "output_type": "stream",
          "name": "stdout",
          "text": [
            "Please upload an image for classification:\n"
          ]
        },
        {
          "output_type": "display_data",
          "data": {
            "text/plain": [
              "<IPython.core.display.HTML object>"
            ],
            "text/html": [
              "\n",
              "     <input type=\"file\" id=\"files-eeb4cb23-5206-46a3-b42f-3276f650ca8b\" name=\"files[]\" multiple disabled\n",
              "        style=\"border:none\" />\n",
              "     <output id=\"result-eeb4cb23-5206-46a3-b42f-3276f650ca8b\">\n",
              "      Upload widget is only available when the cell has been executed in the\n",
              "      current browser session. Please rerun this cell to enable.\n",
              "      </output>\n",
              "      <script>// Copyright 2017 Google LLC\n",
              "//\n",
              "// Licensed under the Apache License, Version 2.0 (the \"License\");\n",
              "// you may not use this file except in compliance with the License.\n",
              "// You may obtain a copy of the License at\n",
              "//\n",
              "//      http://www.apache.org/licenses/LICENSE-2.0\n",
              "//\n",
              "// Unless required by applicable law or agreed to in writing, software\n",
              "// distributed under the License is distributed on an \"AS IS\" BASIS,\n",
              "// WITHOUT WARRANTIES OR CONDITIONS OF ANY KIND, either express or implied.\n",
              "// See the License for the specific language governing permissions and\n",
              "// limitations under the License.\n",
              "\n",
              "/**\n",
              " * @fileoverview Helpers for google.colab Python module.\n",
              " */\n",
              "(function(scope) {\n",
              "function span(text, styleAttributes = {}) {\n",
              "  const element = document.createElement('span');\n",
              "  element.textContent = text;\n",
              "  for (const key of Object.keys(styleAttributes)) {\n",
              "    element.style[key] = styleAttributes[key];\n",
              "  }\n",
              "  return element;\n",
              "}\n",
              "\n",
              "// Max number of bytes which will be uploaded at a time.\n",
              "const MAX_PAYLOAD_SIZE = 100 * 1024;\n",
              "\n",
              "function _uploadFiles(inputId, outputId) {\n",
              "  const steps = uploadFilesStep(inputId, outputId);\n",
              "  const outputElement = document.getElementById(outputId);\n",
              "  // Cache steps on the outputElement to make it available for the next call\n",
              "  // to uploadFilesContinue from Python.\n",
              "  outputElement.steps = steps;\n",
              "\n",
              "  return _uploadFilesContinue(outputId);\n",
              "}\n",
              "\n",
              "// This is roughly an async generator (not supported in the browser yet),\n",
              "// where there are multiple asynchronous steps and the Python side is going\n",
              "// to poll for completion of each step.\n",
              "// This uses a Promise to block the python side on completion of each step,\n",
              "// then passes the result of the previous step as the input to the next step.\n",
              "function _uploadFilesContinue(outputId) {\n",
              "  const outputElement = document.getElementById(outputId);\n",
              "  const steps = outputElement.steps;\n",
              "\n",
              "  const next = steps.next(outputElement.lastPromiseValue);\n",
              "  return Promise.resolve(next.value.promise).then((value) => {\n",
              "    // Cache the last promise value to make it available to the next\n",
              "    // step of the generator.\n",
              "    outputElement.lastPromiseValue = value;\n",
              "    return next.value.response;\n",
              "  });\n",
              "}\n",
              "\n",
              "/**\n",
              " * Generator function which is called between each async step of the upload\n",
              " * process.\n",
              " * @param {string} inputId Element ID of the input file picker element.\n",
              " * @param {string} outputId Element ID of the output display.\n",
              " * @return {!Iterable<!Object>} Iterable of next steps.\n",
              " */\n",
              "function* uploadFilesStep(inputId, outputId) {\n",
              "  const inputElement = document.getElementById(inputId);\n",
              "  inputElement.disabled = false;\n",
              "\n",
              "  const outputElement = document.getElementById(outputId);\n",
              "  outputElement.innerHTML = '';\n",
              "\n",
              "  const pickedPromise = new Promise((resolve) => {\n",
              "    inputElement.addEventListener('change', (e) => {\n",
              "      resolve(e.target.files);\n",
              "    });\n",
              "  });\n",
              "\n",
              "  const cancel = document.createElement('button');\n",
              "  inputElement.parentElement.appendChild(cancel);\n",
              "  cancel.textContent = 'Cancel upload';\n",
              "  const cancelPromise = new Promise((resolve) => {\n",
              "    cancel.onclick = () => {\n",
              "      resolve(null);\n",
              "    };\n",
              "  });\n",
              "\n",
              "  // Wait for the user to pick the files.\n",
              "  const files = yield {\n",
              "    promise: Promise.race([pickedPromise, cancelPromise]),\n",
              "    response: {\n",
              "      action: 'starting',\n",
              "    }\n",
              "  };\n",
              "\n",
              "  cancel.remove();\n",
              "\n",
              "  // Disable the input element since further picks are not allowed.\n",
              "  inputElement.disabled = true;\n",
              "\n",
              "  if (!files) {\n",
              "    return {\n",
              "      response: {\n",
              "        action: 'complete',\n",
              "      }\n",
              "    };\n",
              "  }\n",
              "\n",
              "  for (const file of files) {\n",
              "    const li = document.createElement('li');\n",
              "    li.append(span(file.name, {fontWeight: 'bold'}));\n",
              "    li.append(span(\n",
              "        `(${file.type || 'n/a'}) - ${file.size} bytes, ` +\n",
              "        `last modified: ${\n",
              "            file.lastModifiedDate ? file.lastModifiedDate.toLocaleDateString() :\n",
              "                                    'n/a'} - `));\n",
              "    const percent = span('0% done');\n",
              "    li.appendChild(percent);\n",
              "\n",
              "    outputElement.appendChild(li);\n",
              "\n",
              "    const fileDataPromise = new Promise((resolve) => {\n",
              "      const reader = new FileReader();\n",
              "      reader.onload = (e) => {\n",
              "        resolve(e.target.result);\n",
              "      };\n",
              "      reader.readAsArrayBuffer(file);\n",
              "    });\n",
              "    // Wait for the data to be ready.\n",
              "    let fileData = yield {\n",
              "      promise: fileDataPromise,\n",
              "      response: {\n",
              "        action: 'continue',\n",
              "      }\n",
              "    };\n",
              "\n",
              "    // Use a chunked sending to avoid message size limits. See b/62115660.\n",
              "    let position = 0;\n",
              "    do {\n",
              "      const length = Math.min(fileData.byteLength - position, MAX_PAYLOAD_SIZE);\n",
              "      const chunk = new Uint8Array(fileData, position, length);\n",
              "      position += length;\n",
              "\n",
              "      const base64 = btoa(String.fromCharCode.apply(null, chunk));\n",
              "      yield {\n",
              "        response: {\n",
              "          action: 'append',\n",
              "          file: file.name,\n",
              "          data: base64,\n",
              "        },\n",
              "      };\n",
              "\n",
              "      let percentDone = fileData.byteLength === 0 ?\n",
              "          100 :\n",
              "          Math.round((position / fileData.byteLength) * 100);\n",
              "      percent.textContent = `${percentDone}% done`;\n",
              "\n",
              "    } while (position < fileData.byteLength);\n",
              "  }\n",
              "\n",
              "  // All done.\n",
              "  yield {\n",
              "    response: {\n",
              "      action: 'complete',\n",
              "    }\n",
              "  };\n",
              "}\n",
              "\n",
              "scope.google = scope.google || {};\n",
              "scope.google.colab = scope.google.colab || {};\n",
              "scope.google.colab._files = {\n",
              "  _uploadFiles,\n",
              "  _uploadFilesContinue,\n",
              "};\n",
              "})(self);\n",
              "</script> "
            ]
          },
          "metadata": {}
        },
        {
          "output_type": "stream",
          "name": "stdout",
          "text": [
            "Saving eczema.jpg to eczema (1).jpg\n",
            "1/1 [==============================] - 1s 979ms/step\n",
            "Predicted Class: Eczema\n",
            "Confidence Scores: [0.6180905  0.74297094]\n"
          ]
        }
      ]
    },
    {
      "cell_type": "markdown",
      "source": [
        "To apply the model reccursively to multiple images. (Images have been saved in a folder in google drive)"
      ],
      "metadata": {
        "id": "sP25RlcOnE52"
      }
    },
    {
      "cell_type": "code",
      "source": [
        "import os\n",
        "import numpy as np\n",
        "from tensorflow.keras.utils import load_img, img_to_array\n",
        "from google.colab import drive\n",
        "\n",
        "# Function to preprocess the image\n",
        "def preprocess_image(image_path, target_size=(224, 224)):\n",
        "    img = load_img(image_path, target_size=target_size)  # Load image\n",
        "    img_array = img_to_array(img) / 255.0  # Normalize\n",
        "    img_array = np.expand_dims(img_array, axis=0)  # Add batch dimension\n",
        "    return img_array\n",
        "\n",
        "# Path to the folder in your Google Drive\n",
        "folder_path = \"/content/drive/My Drive/eczema_eyes/unseen_images\"  # Replace with your folder path\n",
        "\n",
        "# Get a list of all files in the folder\n",
        "image_files = [os.path.join(folder_path, f) for f in os.listdir(folder_path) if f.lower().endswith(('.png', '.jpg', '.jpeg'))]\n",
        "\n",
        "# Classify each image in the folder\n",
        "class_names = ['Non-Eczema', 'Eczema']\n",
        "\n",
        "for image_path in image_files:\n",
        "    print(f\"Processing image: {os.path.basename(image_path)}\")\n",
        "\n",
        "    # Preprocess the image\n",
        "    input_image = preprocess_image(image_path)\n",
        "\n",
        "    # Make predictions\n",
        "    predictions = model.predict(input_image)\n",
        "\n",
        "    # Interpret the results\n",
        "    predicted_class = class_names[np.argmax(predictions)]\n",
        "    confidence_scores = predictions[0]\n",
        "\n",
        "    # Display results\n",
        "    print(f\"Predicted Class: {predicted_class}\")\n",
        "    print(f\"Confidence Scores: {confidence_scores}\")\n",
        "    print(\"-\" * 50)\n"
      ],
      "metadata": {
        "colab": {
          "base_uri": "https://localhost:8080/"
        },
        "id": "Aj784_JI9nNQ",
        "outputId": "b379dbab-0219-4b3b-e75b-112d19adc62c"
      },
      "execution_count": null,
      "outputs": [
        {
          "output_type": "stream",
          "name": "stdout",
          "text": [
            "Processing image: eczema1.jpg\n",
            "1/1 [==============================] - 0s 82ms/step\n",
            "Predicted Class: Eczema\n",
            "Confidence Scores: [0.6180905  0.74297094]\n",
            "--------------------------------------------------\n",
            "Processing image: eczema2.jpg\n",
            "1/1 [==============================] - 0s 83ms/step\n",
            "Predicted Class: Non-Eczema\n",
            "Confidence Scores: [0.8237816  0.41264042]\n",
            "--------------------------------------------------\n",
            "Processing image: eczema3.jpg\n",
            "1/1 [==============================] - 0s 79ms/step\n",
            "Predicted Class: Eczema\n",
            "Confidence Scores: [0.38220862 0.63907427]\n",
            "--------------------------------------------------\n",
            "Processing image: eczema4.jpg\n",
            "1/1 [==============================] - 0s 83ms/step\n",
            "Predicted Class: Eczema\n",
            "Confidence Scores: [0.51913434 0.55493206]\n",
            "--------------------------------------------------\n",
            "Processing image: eczema5.jpg\n",
            "1/1 [==============================] - 0s 76ms/step\n",
            "Predicted Class: Non-Eczema\n",
            "Confidence Scores: [0.8841709  0.17893748]\n",
            "--------------------------------------------------\n",
            "Processing image: noneczema1.jpg\n",
            "1/1 [==============================] - 0s 76ms/step\n",
            "Predicted Class: Non-Eczema\n",
            "Confidence Scores: [0.85101503 0.3047748 ]\n",
            "--------------------------------------------------\n",
            "Processing image: noneczema2.jpg\n",
            "1/1 [==============================] - 0s 77ms/step\n",
            "Predicted Class: Non-Eczema\n",
            "Confidence Scores: [0.96741116 0.03488259]\n",
            "--------------------------------------------------\n"
          ]
        }
      ]
    },
    {
      "cell_type": "markdown",
      "source": [
        "# Eczema Level Detection"
      ],
      "metadata": {
        "id": "jGsBolR4D5WU"
      }
    },
    {
      "cell_type": "code",
      "source": [
        "import tensorflow as tf\n",
        "import tensorflow_hub as hub\n",
        "from tensorflow.keras.models import load_model\n",
        "\n",
        "# Define the model path\n",
        "model_path = \"/content/EczemaDetectionUsingCNN/eczemaLevelDetection.h5\"\n",
        "\n",
        "# Load the model without compiling\n",
        "model = load_model(model_path, custom_objects={'KerasLayer': hub.KerasLayer}, compile=False)\n",
        "\n",
        "# Recompile the model with the correct loss and optimizer\n",
        "model.compile(\n",
        "    optimizer=tf.keras.optimizers.Adam(),\n",
        "    loss=tf.keras.losses.SparseCategoricalCrossentropy(from_logits=True),\n",
        "    metrics=['accuracy']\n",
        ")\n",
        "\n",
        "# Display model structure\n",
        "model.summary()\n"
      ],
      "metadata": {
        "colab": {
          "base_uri": "https://localhost:8080/"
        },
        "id": "WoaprjNq-wSw",
        "outputId": "260b1132-b892-425c-bd2f-183cbe42b7df"
      },
      "execution_count": null,
      "outputs": [
        {
          "output_type": "stream",
          "name": "stdout",
          "text": [
            "Model: \"sequential_3\"\n",
            "_________________________________________________________________\n",
            " Layer (type)                Output Shape              Param #   \n",
            "=================================================================\n",
            " keras_layer_3 (KerasLayer)  (None, 1792)              4363712   \n",
            "                                                                 \n",
            " dense_3 (Dense)             (None, 3)                 5379      \n",
            "                                                                 \n",
            "=================================================================\n",
            "Total params: 4,369,091\n",
            "Trainable params: 5,379\n",
            "Non-trainable params: 4,363,712\n",
            "_________________________________________________________________\n"
          ]
        }
      ]
    },
    {
      "cell_type": "markdown",
      "source": [
        "To prompt user to input a single image and determine the level/severity of eczema."
      ],
      "metadata": {
        "id": "dGqYJU4LncpQ"
      }
    },
    {
      "cell_type": "code",
      "source": [
        "import numpy as np\n",
        "from tensorflow.keras.utils import load_img, img_to_array\n",
        "from google.colab import files\n",
        "\n",
        "# Function to preprocess the image\n",
        "def preprocess_image(image_path, target_size=(224, 224)):\n",
        "    img = load_img(image_path, target_size=target_size)  # Load image\n",
        "    img_array = img_to_array(img) / 255.0  # Normalize the image\n",
        "    img_array = np.expand_dims(img_array, axis=0)  # Add batch dimension\n",
        "    return img_array\n",
        "\n",
        "# Class labels for eczema levels\n",
        "class_names = ['Mild', 'Moderate', 'Severe']  # Update labels if different\n",
        "\n",
        "# Prompt the user to upload an image\n",
        "print(\"Please upload an image for eczema level detection:\")\n",
        "uploaded = files.upload()\n",
        "\n",
        "# Process the uploaded image\n",
        "for filename in uploaded.keys():\n",
        "    image_path = filename  # Get the path of the uploaded image\n",
        "    input_image = preprocess_image(image_path)\n",
        "\n",
        "    # Make predictions\n",
        "    predictions = model.predict(input_image)\n",
        "\n",
        "    # Interpret the results\n",
        "    predicted_class = class_names[np.argmax(predictions)]\n",
        "    confidence_scores = predictions[0]\n",
        "\n",
        "    # Display the results\n",
        "    print(f\"\\nImage: {filename}\")\n",
        "    print(f\"Predicted Eczema Level: {predicted_class}\")\n",
        "    print(f\"Confidence Scores: {confidence_scores}\")\n"
      ],
      "metadata": {
        "colab": {
          "base_uri": "https://localhost:8080/",
          "height": 177
        },
        "id": "3VA_19mvBl2E",
        "outputId": "14a5c65a-d06f-4d3b-9f98-b354f207b3c4"
      },
      "execution_count": null,
      "outputs": [
        {
          "output_type": "stream",
          "name": "stdout",
          "text": [
            "Please upload an image for eczema level detection:\n"
          ]
        },
        {
          "output_type": "display_data",
          "data": {
            "text/plain": [
              "<IPython.core.display.HTML object>"
            ],
            "text/html": [
              "\n",
              "     <input type=\"file\" id=\"files-e52d4143-3498-47ae-a1b1-db00392ad3a2\" name=\"files[]\" multiple disabled\n",
              "        style=\"border:none\" />\n",
              "     <output id=\"result-e52d4143-3498-47ae-a1b1-db00392ad3a2\">\n",
              "      Upload widget is only available when the cell has been executed in the\n",
              "      current browser session. Please rerun this cell to enable.\n",
              "      </output>\n",
              "      <script>// Copyright 2017 Google LLC\n",
              "//\n",
              "// Licensed under the Apache License, Version 2.0 (the \"License\");\n",
              "// you may not use this file except in compliance with the License.\n",
              "// You may obtain a copy of the License at\n",
              "//\n",
              "//      http://www.apache.org/licenses/LICENSE-2.0\n",
              "//\n",
              "// Unless required by applicable law or agreed to in writing, software\n",
              "// distributed under the License is distributed on an \"AS IS\" BASIS,\n",
              "// WITHOUT WARRANTIES OR CONDITIONS OF ANY KIND, either express or implied.\n",
              "// See the License for the specific language governing permissions and\n",
              "// limitations under the License.\n",
              "\n",
              "/**\n",
              " * @fileoverview Helpers for google.colab Python module.\n",
              " */\n",
              "(function(scope) {\n",
              "function span(text, styleAttributes = {}) {\n",
              "  const element = document.createElement('span');\n",
              "  element.textContent = text;\n",
              "  for (const key of Object.keys(styleAttributes)) {\n",
              "    element.style[key] = styleAttributes[key];\n",
              "  }\n",
              "  return element;\n",
              "}\n",
              "\n",
              "// Max number of bytes which will be uploaded at a time.\n",
              "const MAX_PAYLOAD_SIZE = 100 * 1024;\n",
              "\n",
              "function _uploadFiles(inputId, outputId) {\n",
              "  const steps = uploadFilesStep(inputId, outputId);\n",
              "  const outputElement = document.getElementById(outputId);\n",
              "  // Cache steps on the outputElement to make it available for the next call\n",
              "  // to uploadFilesContinue from Python.\n",
              "  outputElement.steps = steps;\n",
              "\n",
              "  return _uploadFilesContinue(outputId);\n",
              "}\n",
              "\n",
              "// This is roughly an async generator (not supported in the browser yet),\n",
              "// where there are multiple asynchronous steps and the Python side is going\n",
              "// to poll for completion of each step.\n",
              "// This uses a Promise to block the python side on completion of each step,\n",
              "// then passes the result of the previous step as the input to the next step.\n",
              "function _uploadFilesContinue(outputId) {\n",
              "  const outputElement = document.getElementById(outputId);\n",
              "  const steps = outputElement.steps;\n",
              "\n",
              "  const next = steps.next(outputElement.lastPromiseValue);\n",
              "  return Promise.resolve(next.value.promise).then((value) => {\n",
              "    // Cache the last promise value to make it available to the next\n",
              "    // step of the generator.\n",
              "    outputElement.lastPromiseValue = value;\n",
              "    return next.value.response;\n",
              "  });\n",
              "}\n",
              "\n",
              "/**\n",
              " * Generator function which is called between each async step of the upload\n",
              " * process.\n",
              " * @param {string} inputId Element ID of the input file picker element.\n",
              " * @param {string} outputId Element ID of the output display.\n",
              " * @return {!Iterable<!Object>} Iterable of next steps.\n",
              " */\n",
              "function* uploadFilesStep(inputId, outputId) {\n",
              "  const inputElement = document.getElementById(inputId);\n",
              "  inputElement.disabled = false;\n",
              "\n",
              "  const outputElement = document.getElementById(outputId);\n",
              "  outputElement.innerHTML = '';\n",
              "\n",
              "  const pickedPromise = new Promise((resolve) => {\n",
              "    inputElement.addEventListener('change', (e) => {\n",
              "      resolve(e.target.files);\n",
              "    });\n",
              "  });\n",
              "\n",
              "  const cancel = document.createElement('button');\n",
              "  inputElement.parentElement.appendChild(cancel);\n",
              "  cancel.textContent = 'Cancel upload';\n",
              "  const cancelPromise = new Promise((resolve) => {\n",
              "    cancel.onclick = () => {\n",
              "      resolve(null);\n",
              "    };\n",
              "  });\n",
              "\n",
              "  // Wait for the user to pick the files.\n",
              "  const files = yield {\n",
              "    promise: Promise.race([pickedPromise, cancelPromise]),\n",
              "    response: {\n",
              "      action: 'starting',\n",
              "    }\n",
              "  };\n",
              "\n",
              "  cancel.remove();\n",
              "\n",
              "  // Disable the input element since further picks are not allowed.\n",
              "  inputElement.disabled = true;\n",
              "\n",
              "  if (!files) {\n",
              "    return {\n",
              "      response: {\n",
              "        action: 'complete',\n",
              "      }\n",
              "    };\n",
              "  }\n",
              "\n",
              "  for (const file of files) {\n",
              "    const li = document.createElement('li');\n",
              "    li.append(span(file.name, {fontWeight: 'bold'}));\n",
              "    li.append(span(\n",
              "        `(${file.type || 'n/a'}) - ${file.size} bytes, ` +\n",
              "        `last modified: ${\n",
              "            file.lastModifiedDate ? file.lastModifiedDate.toLocaleDateString() :\n",
              "                                    'n/a'} - `));\n",
              "    const percent = span('0% done');\n",
              "    li.appendChild(percent);\n",
              "\n",
              "    outputElement.appendChild(li);\n",
              "\n",
              "    const fileDataPromise = new Promise((resolve) => {\n",
              "      const reader = new FileReader();\n",
              "      reader.onload = (e) => {\n",
              "        resolve(e.target.result);\n",
              "      };\n",
              "      reader.readAsArrayBuffer(file);\n",
              "    });\n",
              "    // Wait for the data to be ready.\n",
              "    let fileData = yield {\n",
              "      promise: fileDataPromise,\n",
              "      response: {\n",
              "        action: 'continue',\n",
              "      }\n",
              "    };\n",
              "\n",
              "    // Use a chunked sending to avoid message size limits. See b/62115660.\n",
              "    let position = 0;\n",
              "    do {\n",
              "      const length = Math.min(fileData.byteLength - position, MAX_PAYLOAD_SIZE);\n",
              "      const chunk = new Uint8Array(fileData, position, length);\n",
              "      position += length;\n",
              "\n",
              "      const base64 = btoa(String.fromCharCode.apply(null, chunk));\n",
              "      yield {\n",
              "        response: {\n",
              "          action: 'append',\n",
              "          file: file.name,\n",
              "          data: base64,\n",
              "        },\n",
              "      };\n",
              "\n",
              "      let percentDone = fileData.byteLength === 0 ?\n",
              "          100 :\n",
              "          Math.round((position / fileData.byteLength) * 100);\n",
              "      percent.textContent = `${percentDone}% done`;\n",
              "\n",
              "    } while (position < fileData.byteLength);\n",
              "  }\n",
              "\n",
              "  // All done.\n",
              "  yield {\n",
              "    response: {\n",
              "      action: 'complete',\n",
              "    }\n",
              "  };\n",
              "}\n",
              "\n",
              "scope.google = scope.google || {};\n",
              "scope.google.colab = scope.google.colab || {};\n",
              "scope.google.colab._files = {\n",
              "  _uploadFiles,\n",
              "  _uploadFilesContinue,\n",
              "};\n",
              "})(self);\n",
              "</script> "
            ]
          },
          "metadata": {}
        },
        {
          "output_type": "stream",
          "name": "stdout",
          "text": [
            "Saving normal.jpg to normal (1).jpg\n",
            "1/1 [==============================] - 0s 80ms/step\n",
            "\n",
            "Image: normal (1).jpg\n",
            "Predicted Eczema Level: Mild\n",
            "Confidence Scores: [0.755553   0.3137466  0.53496367]\n"
          ]
        }
      ]
    },
    {
      "cell_type": "markdown",
      "source": [
        "To apply the model reccursively to multiple images. (Images have been saved in a folder in google drive)"
      ],
      "metadata": {
        "id": "yd3t2ffVnea7"
      }
    },
    {
      "cell_type": "code",
      "source": [
        "import os\n",
        "import numpy as np\n",
        "from tensorflow.keras.utils import load_img, img_to_array\n",
        "from google.colab import drive\n",
        "\n",
        "# Function to preprocess the image\n",
        "def preprocess_image(image_path, target_size=(224, 224)):\n",
        "    img = load_img(image_path, target_size=target_size)  # Load image\n",
        "    img_array = img_to_array(img) / 255.0  # Normalize the image\n",
        "    img_array = np.expand_dims(img_array, axis=0)  # Add batch dimension\n",
        "    return img_array\n",
        "\n",
        "# Mount Google Drive\n",
        "drive.mount('/content/drive')\n",
        "\n",
        "# Path to the folder in your Google Drive\n",
        "folder_path = \"/content/drive/My Drive/eczema_eyes/unseen_images\"  # Replace with your folder path\n",
        "\n",
        "# Get a list of all image files in the folder\n",
        "image_files = [os.path.join(folder_path, f) for f in os.listdir(folder_path) if f.lower().endswith(('.png', '.jpg', '.jpeg'))]\n",
        "\n",
        "# Class labels for eczema levels (Update based on your model's output classes)\n",
        "class_names = ['Mild', 'Moderate', 'Severe']  # Update class labels if needed\n",
        "\n",
        "# Classify each image in the folder\n",
        "for image_path in image_files:\n",
        "    print(f\"Processing image: {os.path.basename(image_path)}\")\n",
        "\n",
        "    # Preprocess the image\n",
        "    input_image = preprocess_image(image_path)\n",
        "\n",
        "    # Make predictions\n",
        "    predictions = model.predict(input_image)\n",
        "\n",
        "    # Interpret the results\n",
        "    predicted_class = class_names[np.argmax(predictions)]\n",
        "    confidence_scores = predictions[0]\n",
        "\n",
        "    # Display results\n",
        "    print(f\"Predicted Eczema Level: {predicted_class}\")\n",
        "    print(f\"Confidence Scores: {confidence_scores}\")\n",
        "    print(\"-\" * 50)\n"
      ],
      "metadata": {
        "colab": {
          "base_uri": "https://localhost:8080/"
        },
        "id": "H9VPWyk1DskY",
        "outputId": "c06aba33-be91-4a5a-cd3d-3fd7ab361381"
      },
      "execution_count": null,
      "outputs": [
        {
          "output_type": "stream",
          "name": "stdout",
          "text": [
            "Drive already mounted at /content/drive; to attempt to forcibly remount, call drive.mount(\"/content/drive\", force_remount=True).\n",
            "Processing image: eczema1.jpg\n",
            "1/1 [==============================] - 0s 75ms/step\n",
            "Predicted Eczema Level: Moderate\n",
            "Confidence Scores: [0.18650259 0.700373   0.2327971 ]\n",
            "--------------------------------------------------\n",
            "Processing image: eczema2.jpg\n",
            "1/1 [==============================] - 0s 75ms/step\n",
            "Predicted Eczema Level: Moderate\n",
            "Confidence Scores: [0.61498135 0.7363337  0.01151701]\n",
            "--------------------------------------------------\n",
            "Processing image: eczema3.jpg\n",
            "1/1 [==============================] - 0s 75ms/step\n",
            "Predicted Eczema Level: Mild\n",
            "Confidence Scores: [0.63847965 0.52600527 0.25193837]\n",
            "--------------------------------------------------\n",
            "Processing image: eczema4.jpg\n",
            "1/1 [==============================] - 0s 91ms/step\n",
            "Predicted Eczema Level: Moderate\n",
            "Confidence Scores: [0.46685794 0.54463387 0.07482943]\n",
            "--------------------------------------------------\n",
            "Processing image: eczema5.jpg\n",
            "1/1 [==============================] - 0s 74ms/step\n",
            "Predicted Eczema Level: Moderate\n",
            "Confidence Scores: [0.4465619  0.6496526  0.01314605]\n",
            "--------------------------------------------------\n",
            "Processing image: noneczema1.jpg\n",
            "1/1 [==============================] - 0s 78ms/step\n",
            "Predicted Eczema Level: Moderate\n",
            "Confidence Scores: [0.18928811 0.39294872 0.15667102]\n",
            "--------------------------------------------------\n",
            "Processing image: noneczema2.jpg\n",
            "1/1 [==============================] - 0s 82ms/step\n",
            "Predicted Eczema Level: Mild\n",
            "Confidence Scores: [0.6774104  0.2903445  0.05281625]\n",
            "--------------------------------------------------\n"
          ]
        }
      ]
    },
    {
      "cell_type": "code",
      "source": [],
      "metadata": {
        "id": "JgEqGVSvEKhX"
      },
      "execution_count": null,
      "outputs": []
    }
  ]
}